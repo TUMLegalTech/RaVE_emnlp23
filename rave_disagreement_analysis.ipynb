{
  "cells": [
    {
      "cell_type": "code",
      "execution_count": null,
      "metadata": {
        "colab": {
          "base_uri": "https://localhost:8080/"
        },
        "id": "I5yUYLxpp6YL",
        "outputId": "c3d73a90-64a0-4331-fe61-78e773bf59d3"
      },
      "outputs": [],
      "source": [
        "\n",
        "import pandas as pd0\n",
        "from scipy.stats import ttest_ind0"
      ]
    },
    {
      "cell_type": "code",
      "execution_count": 6,
      "metadata": {},
      "outputs": [],
      "source": [
        "# load the dataset\n",
        "df_merge = pd.read_csv('./data/annotation/rave_disagreement.tsv',sep='\\t'\n",
        "                       )"
      ]
    },
    {
      "cell_type": "code",
      "execution_count": 7,
      "metadata": {
        "colab": {
          "base_uri": "https://localhost:8080/",
          "height": 35
        },
        "id": "e9DL2iStuk39",
        "outputId": "59b9e8e2-4476-4e8d-b831-be061be2105a"
      },
      "outputs": [
        {
          "data": {
            "text/plain": [
              "'utilize number of paragraphs'"
            ]
          },
          "execution_count": 7,
          "metadata": {},
          "output_type": "execute_result"
        }
      ],
      "source": [
        "##  preprocess proxy variables\n",
        "\n",
        "#JudgeSplit:\n",
        "''' (If the case decision is not a unanimous vote > It is a split vote)'''\n",
        "df_merge['JudgeSplit'] = (df_merge['unanimous'] != 1).astype(int)\n",
        "\n",
        "#Keycase:\n",
        "''' whether the case is listed as keycase by ECtHR'''\n",
        "df_merge['Keycase'] = (df_merge['key_case'] == 1).astype(int)\n",
        "\n",
        "#OmitAlleg:\n",
        "'''Subsidiary allegations absent in the original HUDOC metadata'''\n",
        "df_merge['OmitAlleg'] = (df_merge['meta'] == 1).astype(int)\n",
        "\n",
        "#DiffPred\n",
        "'''Difference in Outcome Prediction'''\n",
        "df_merge['DiffPred'] = (df_merge['pred_i'] != df_merge['pred_o']).astype(int)\n",
        "\n",
        "#DiffFam\n",
        "'''Difference in Case Familiarity'''\n",
        "df_merge['DiffFam'] = (df_merge['known_i'] != df_merge['known_o']).astype(int)\n",
        "\n",
        "#NumPar\n",
        "'''utilize number of paragraphs'''\n",
        "# df_merge['numPar']\n",
        "\n",
        "\n",
        "\n",
        "\n",
        "\n"
      ]
    },
    {
      "cell_type": "code",
      "execution_count": 8,
      "metadata": {
        "id": "DUFPEhI3t6m_"
      },
      "outputs": [],
      "source": [
        "## t-test\n",
        "\n",
        "\n",
        "def significatn_test(df, feature):\n",
        "  # feature: binary proxy variables of the possible sources of disagreeement\n",
        "\n",
        "\n",
        "# group the DataFrame by the values in column feature\n",
        "  grouped = df.groupby(feature)\n",
        "\n",
        "  # # get the groups for 0 and 1\n",
        "  group0 = grouped.get_group(0)[\"interAnno_k_1\"]\n",
        "  group1 = grouped.get_group(1)[\"interAnno_k_1\"]\n",
        "\n",
        "  # get the mean of each group\n",
        "  mean_0 = round(group0.mean(),3)\n",
        "  mean_1 = round(group1.mean(),3)\n",
        "\n",
        "  # # perform t-test on the two groups\n",
        "  t_statistic, p_value = ttest_ind(group0, group1, equal_var=True)\n",
        "  print(f'p_value: {p_value}')\n",
        "  print(f't_statistic: {t_statistic}')\n",
        "\n",
        "  print(f'mean_0: {mean_0}')\n",
        "  print(f'mean_1: {mean_1}')\n",
        "\n",
        "  # print results\n",
        "  if p_value < 0.05:\n",
        "    if mean_0 > mean_1:\n",
        "      print(f\"The mean of {feature} 0 is significantly bigger than that of group 1.\")\n",
        "    else:\n",
        "      print(f\"The mean of {feature} 1 is significantly bigger than that of group 0.\")\n",
        "  else:\n",
        "      print(\"There is no significant difference between the means of group 0 and group 1.\")\n"
      ]
    },
    {
      "cell_type": "code",
      "execution_count": 9,
      "metadata": {
        "colab": {
          "base_uri": "https://localhost:8080/"
        },
        "id": "CdPSv4fiIAQ4",
        "outputId": "8516e315-ec46-4fc5-adaf-101fa64e2456"
      },
      "outputs": [
        {
          "name": "stdout",
          "output_type": "stream",
          "text": [
            "p_value: 0.0028095172062429113\n",
            "t_statistic: -3.095729823931687\n",
            "mean_0: 0.218\n",
            "mean_1: 0.344\n",
            "The mean of JudgeSplit 1 is significantly bigger than that of group 0.\n",
            "p_value: 0.8555247997504345\n",
            "t_statistic: -0.18273748189384495\n",
            "mean_0: 0.242\n",
            "mean_1: 0.249\n",
            "There is no significant difference between the means of group 0 and group 1.\n",
            "p_value: 8.500157514472284e-06\n",
            "t_statistic: -4.800667416613973\n",
            "mean_0: 0.086\n",
            "mean_1: 0.278\n",
            "The mean of OmitAlleg 1 is significantly bigger than that of group 0.\n",
            "p_value: 0.03883616037592681\n",
            "t_statistic: -2.104942958915564\n",
            "mean_0: 0.225\n",
            "mean_1: 0.315\n",
            "The mean of DiffPred 1 is significantly bigger than that of group 0.\n",
            "p_value: 0.6508758702443435\n",
            "t_statistic: -0.4544715907860136\n",
            "mean_0: 0.24\n",
            "mean_1: 0.26\n",
            "There is no significant difference between the means of group 0 and group 1.\n"
          ]
        }
      ],
      "source": [
        "# Main\n",
        "\n",
        "'''statistical association between proxy variables and expert’s IAA score.'''\n",
        "proxy_variables = ['JudgeSplit','Keycase','OmitAlleg','DiffPred','DiffFam']\n",
        "\n",
        "for proxy in proxy_variables:\n",
        "  significatn_test(df_merge, proxy)"
      ]
    },
    {
      "cell_type": "code",
      "execution_count": null,
      "metadata": {},
      "outputs": [],
      "source": []
    }
  ],
  "metadata": {
    "colab": {
      "provenance": []
    },
    "kernelspec": {
      "display_name": "pymc_env",
      "language": "python",
      "name": "python3"
    },
    "language_info": {
      "codemirror_mode": {
        "name": "ipython",
        "version": 3
      },
      "file_extension": ".py",
      "mimetype": "text/x-python",
      "name": "python",
      "nbconvert_exporter": "python",
      "pygments_lexer": "ipython3",
      "version": "3.11.9"
    }
  },
  "nbformat": 4,
  "nbformat_minor": 0
}
